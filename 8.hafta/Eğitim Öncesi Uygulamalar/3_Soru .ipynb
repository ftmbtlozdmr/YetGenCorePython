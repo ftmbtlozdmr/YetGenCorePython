{
  "cells": [
    {
      "cell_type": "markdown",
      "metadata": {
        "id": "B1pKLRfEyvlS"
      },
      "source": [
        "# Problem 3\n",
        "\n",
        "Çeşitli metin dosyalarından karakterleri ayıklamak ve bir listeye koymak için bir Python programı yazın. ```test.txt``` ve ```demo.txt``` dosyalarından faydalanabilirsiniz."
      ]
    },
    {
      "cell_type": "code",
      "execution_count": 1,
      "metadata": {
        "id": "n77qPr6tyzG-"
      },
      "outputs": [],
      "source": [
        "#Sorunun Çözmünü Buraya Gerçekleştirebilirsiniz\n",
        "def karakterAyiklama(file_name):\n",
        "    with open(file_name, \"r+\", encoding=\"utf-8\") as file:\n",
        "        liste=[]\n",
        "        for i in file_name:\n",
        "            i.split(\" \")\n",
        "            i.append(file_name)\n",
        "\n",
        "karakterAyiklama(demo.txt)\n",
        "\n",
        "\n",
        "\n",
        "        \n",
        "\n"
      ]
    }
  ],
  "metadata": {
    "colab": {
      "provenance": []
    },
    "kernelspec": {
      "display_name": "Python 3",
      "name": "python3"
    },
    "language_info": {
      "codemirror_mode": {
        "name": "ipython",
        "version": 3
      },
      "file_extension": ".py",
      "mimetype": "text/x-python",
      "name": "python",
      "nbconvert_exporter": "python",
      "pygments_lexer": "ipython3",
      "version": "3.11.1"
    }
  },
  "nbformat": 4,
  "nbformat_minor": 0
}
