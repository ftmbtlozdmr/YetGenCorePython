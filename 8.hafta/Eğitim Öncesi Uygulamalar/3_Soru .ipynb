{
  "cells": [
    {
      "cell_type": "markdown",
      "metadata": {
        "id": "B1pKLRfEyvlS"
      },
      "source": [
        "# Problem 3\n",
        "\n",
        "Çeşitli metin dosyalarından karakterleri ayıklamak ve bir listeye koymak için bir Python programı yazın. ```test.txt``` ve ```demo.txt``` dosyalarından faydalanabilirsiniz."
      ]
    },
    {
      "cell_type": "code",
      "execution_count": 10,
      "metadata": {
        "id": "n77qPr6tyzG-"
      },
      "outputs": [
        {
          "data": {
            "text/plain": [
              "[['Hello!', 'Welcome', 'to', 'demofile.txt\\n'],\n",
              " ['This', 'file', 'is', 'for', 'testing', 'purposes.\\n'],\n",
              " ['Good', 'Luck!']]"
            ]
          },
          "execution_count": 10,
          "metadata": {},
          "output_type": "execute_result"
        }
      ],
      "source": [
        "#Sorunun Çözmünü Buraya Gerçekleştirebilirsiniz\n",
        "def karakterAyiklama(file_name):\n",
        "    liste=[]\n",
        "    with open(file_name, \"r+\", encoding=\"utf-8\") as file:\n",
        "        liste=[]\n",
        "        for i in file:\n",
        "            y=i.split(\" \")\n",
        "            liste.append(y)\n",
        "    return liste\n",
        "\n",
        "karakterAyiklama(\"demofile.txt\")\n",
        "\n",
        "\n",
        "\n",
        "        \n",
        "\n"
      ]
    },
    {
      "cell_type": "code",
      "execution_count": 2,
      "metadata": {},
      "outputs": [
        {
          "name": "stdout",
          "output_type": "stream",
          "text": [
            "['Hello!', 'Welcome', 'to', 'demofile.txt', 'This', 'file', 'is', 'for', 'testing', 'purposes.', 'Good', 'Luck!']\n"
          ]
        }
      ],
      "source": [
        "def karakterAyiklama(file_name):\n",
        "    liste = []\n",
        "    with open(file_name, \"r\", encoding=\"utf-8\") as file:\n",
        "        for line in file:\n",
        "            words = line.split()  # Satırı kelimelere ayır\n",
        "            liste.extend(words)  # Kelimeleri listeye ekle\n",
        "\n",
        "    return liste\n",
        "\n",
        "dosya_adi = \"demofile.txt\"\n",
        "kelimeler = karakterAyiklama(dosya_adi)\n",
        "print(kelimeler)\n"
      ]
    }
  ],
  "metadata": {
    "colab": {
      "provenance": []
    },
    "kernelspec": {
      "display_name": "Python 3",
      "name": "python3"
    },
    "language_info": {
      "codemirror_mode": {
        "name": "ipython",
        "version": 3
      },
      "file_extension": ".py",
      "mimetype": "text/x-python",
      "name": "python",
      "nbconvert_exporter": "python",
      "pygments_lexer": "ipython3",
      "version": "3.11.1"
    }
  },
  "nbformat": 4,
  "nbformat_minor": 0
}
