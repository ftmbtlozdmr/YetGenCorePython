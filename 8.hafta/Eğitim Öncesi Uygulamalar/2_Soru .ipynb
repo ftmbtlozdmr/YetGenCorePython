{
  "cells": [
    {
      "cell_type": "markdown",
      "metadata": {
        "id": "xdJPVw8Qym8-"
      },
      "source": [
        " # Problem 2\n",
        " \n",
        "```test.txt``` dosyasını satır satır okuyun ve bir listede saklayınız. Daha sonra listeyi ekrana bastırınız."
      ]
    },
    {
      "cell_type": "code",
      "execution_count": 2,
      "metadata": {
        "id": "ERxLPkA1yqM9"
      },
      "outputs": [
        {
          "name": "stdout",
          "output_type": "stream",
          "text": [
            "['Berkcan\\n', 'Emirhan\\n', 'Çağla\\n', 'Enes\\n', 'Adem\\n', 'Ahmet\\n', 'Beyza']\n"
          ]
        }
      ],
      "source": [
        "#Sorunun Çözmünü Buraya Gerçekleştirebilirsiniz\n",
        "\n",
        "dosya = open(\"test.txt\",\"r+\",encoding=\"utf-8\")\n",
        "liste=[]\n",
        "for i in dosya:\n",
        "    liste.append(i)\n",
        "\n",
        "print(liste)\n",
        "    \n",
        "\n",
        "\n"
      ]
    },
    {
      "cell_type": "code",
      "execution_count": null,
      "metadata": {},
      "outputs": [],
      "source": [
        "direk readline dan yapabilirsin"
      ]
    },
    {
      "cell_type": "code",
      "execution_count": 1,
      "metadata": {},
      "outputs": [
        {
          "name": "stdout",
          "output_type": "stream",
          "text": [
            "Berkcan\n",
            "Emirhan\n",
            "Çağla\n",
            "Enes\n",
            "Adem\n",
            "Ahmet\n",
            "Beyza\n"
          ]
        }
      ],
      "source": [
        "lines = []\n",
        "\n",
        "with open(\"test.txt\", \"r\", encoding=\"utf-8\") as file:\n",
        "    for line in file:\n",
        "        lines.append(line.strip())\n",
        "\n",
        "# Listeyi ekrana bastır\n",
        "for line in lines:\n",
        "    print(line)\n"
      ]
    },
    {
      "cell_type": "code",
      "execution_count": 5,
      "metadata": {},
      "outputs": [
        {
          "name": "stdout",
          "output_type": "stream",
          "text": [
            "['Berkcan\\n', 'Emirhan\\n', 'Çağla\\n', 'Enes\\n', 'Adem\\n', 'Ahmet\\n', 'Beyza']\n"
          ]
        }
      ],
      "source": [
        "file = open(\"test.txt\",\"r+\",encoding=\"utf-8\")\n",
        "print(file.readlines())"
      ]
    }
  ],
  "metadata": {
    "colab": {
      "provenance": []
    },
    "kernelspec": {
      "display_name": "Python 3",
      "name": "python3"
    },
    "language_info": {
      "codemirror_mode": {
        "name": "ipython",
        "version": 3
      },
      "file_extension": ".py",
      "mimetype": "text/x-python",
      "name": "python",
      "nbconvert_exporter": "python",
      "pygments_lexer": "ipython3",
      "version": "3.11.1"
    }
  },
  "nbformat": 4,
  "nbformat_minor": 0
}
