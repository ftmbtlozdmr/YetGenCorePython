{
  "cells": [
    {
      "cell_type": "markdown",
      "metadata": {
        "id": "S33oJyyjyKgH"
      },
      "source": [
        "# Problem 1\n",
        "```test.txt``` dosyasındaki satır sayısını bularak ekrana yazdırınız.\n",
        "\n",
        "\n",
        "\n",
        "```\n",
        "> Output\n",
        "Number of lines in the file:  6\n",
        "\n",
        "```\n",
        "\n"
      ]
    },
    {
      "cell_type": "code",
      "execution_count": 6,
      "metadata": {
        "id": "POxFXvYByP0D"
      },
      "outputs": [
        {
          "ename": "UnsupportedOperation",
          "evalue": "not readable",
          "output_type": "error",
          "traceback": [
            "\u001b[1;31m---------------------------------------------------------------------------\u001b[0m",
            "\u001b[1;31mUnsupportedOperation\u001b[0m                      Traceback (most recent call last)",
            "Cell \u001b[1;32mIn[6], line 3\u001b[0m\n\u001b[0;32m      1\u001b[0m \u001b[39m#Sorunun Çözmünü Buraya Gerçekleştirebilirsiniz\u001b[39;00m\n\u001b[0;32m      2\u001b[0m file \u001b[39m=\u001b[39m \u001b[39mopen\u001b[39m(\u001b[39m\"\u001b[39m\u001b[39mtest.txt\u001b[39m\u001b[39m\"\u001b[39m,\u001b[39m\"\u001b[39m\u001b[39ma\u001b[39m\u001b[39m\"\u001b[39m,encoding\u001b[39m=\u001b[39m\u001b[39m\"\u001b[39m\u001b[39mutf-8\u001b[39m\u001b[39m\"\u001b[39m)\n\u001b[1;32m----> 3\u001b[0m \u001b[39mprint\u001b[39m(\u001b[39mlen\u001b[39m(file\u001b[39m.\u001b[39;49mreadlines()))\n",
            "\u001b[1;31mUnsupportedOperation\u001b[0m: not readable"
          ]
        }
      ],
      "source": [
        "#Sorunun Çözmünü Buraya Gerçekleştirebilirsiniz\n",
        "file = open(\"test.txt\",\"a\",encoding=\"utf-8\")\n",
        "print(len(file.readlines()))\n"
      ]
    },
    {
      "cell_type": "code",
      "execution_count": 4,
      "metadata": {},
      "outputs": [
        {
          "ename": "UnsupportedOperation",
          "evalue": "not readable",
          "output_type": "error",
          "traceback": [
            "\u001b[1;31m---------------------------------------------------------------------------\u001b[0m",
            "\u001b[1;31mUnsupportedOperation\u001b[0m                      Traceback (most recent call last)",
            "Cell \u001b[1;32mIn[4], line 2\u001b[0m\n\u001b[0;32m      1\u001b[0m \u001b[39mwith\u001b[39;00m \u001b[39mopen\u001b[39m(\u001b[39m\"\u001b[39m\u001b[39mtest.txt\u001b[39m\u001b[39m\"\u001b[39m,\u001b[39m\"\u001b[39m\u001b[39ma\u001b[39m\u001b[39m\"\u001b[39m,encoding\u001b[39m=\u001b[39m\u001b[39m\"\u001b[39m\u001b[39mutf-8\u001b[39m\u001b[39m\"\u001b[39m) \u001b[39mas\u001b[39;00m f:\n\u001b[1;32m----> 2\u001b[0m   \u001b[39mprint\u001b[39m(f\u001b[39m.\u001b[39;49mread()\u001b[39m.\u001b[39mcount(file))\n",
            "\u001b[1;31mUnsupportedOperation\u001b[0m: not readable"
          ]
        }
      ],
      "source": [
        "with open(\"test.txt\",\"a\",encoding=\"utf-8\") as f:\n",
        "  print(f.read().count(file))"
      ]
    },
    {
      "cell_type": "code",
      "execution_count": 8,
      "metadata": {},
      "outputs": [
        {
          "name": "stdout",
          "output_type": "stream",
          "text": [
            "7\n"
          ]
        }
      ],
      "source": [
        "dosya = open(\"test.txt\",\"r+\",encoding=\"utf-8\")\n",
        "deger = 0\n",
        "for i in dosya:\n",
        "    deger = deger +1\n",
        "print(deger)"
      ]
    },
    {
      "cell_type": "code",
      "execution_count": 12,
      "metadata": {},
      "outputs": [
        {
          "ename": "UnsupportedOperation",
          "evalue": "not readable",
          "output_type": "error",
          "traceback": [
            "\u001b[1;31m---------------------------------------------------------------------------\u001b[0m",
            "\u001b[1;31mUnsupportedOperation\u001b[0m                      Traceback (most recent call last)",
            "Cell \u001b[1;32mIn[12], line 2\u001b[0m\n\u001b[0;32m      1\u001b[0m dosya \u001b[39m=\u001b[39m \u001b[39mopen\u001b[39m(\u001b[39m\"\u001b[39m\u001b[39mtest.txt\u001b[39m\u001b[39m\"\u001b[39m,\u001b[39m\"\u001b[39m\u001b[39mr+\u001b[39m\u001b[39m\"\u001b[39m,encoding\u001b[39m=\u001b[39m\u001b[39m\"\u001b[39m\u001b[39mutf-8\u001b[39m\u001b[39m\"\u001b[39m)\n\u001b[1;32m----> 2\u001b[0m file\u001b[39m.\u001b[39;49mreadlines()\n\u001b[0;32m      3\u001b[0m \u001b[39mprint\u001b[39m(\u001b[39mlen\u001b[39m(file\u001b[39m.\u001b[39mreadlines()))\n",
            "\u001b[1;31mUnsupportedOperation\u001b[0m: not readable"
          ]
        }
      ],
      "source": [
        "dosya = open(\"test.txt\",\"r+\",encoding=\"utf-8\")\n",
        "file.readlines()\n",
        "print(len(file.readlines()))"
      ]
    }
  ],
  "metadata": {
    "colab": {
      "provenance": []
    },
    "kernelspec": {
      "display_name": "Python 3",
      "name": "python3"
    },
    "language_info": {
      "codemirror_mode": {
        "name": "ipython",
        "version": 3
      },
      "file_extension": ".py",
      "mimetype": "text/x-python",
      "name": "python",
      "nbconvert_exporter": "python",
      "pygments_lexer": "ipython3",
      "version": "3.11.1"
    }
  },
  "nbformat": 4,
  "nbformat_minor": 0
}
