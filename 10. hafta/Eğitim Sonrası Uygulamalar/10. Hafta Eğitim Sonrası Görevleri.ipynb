{
 "cells": [
  {
   "attachments": {},
   "cell_type": "markdown",
   "metadata": {},
   "source": [
    "# Problem 1 "
   ]
  },
  {
   "cell_type": "code",
   "execution_count": 1,
   "metadata": {},
   "outputs": [
    {
     "name": "stdout",
     "output_type": "stream",
     "text": [
      "[10 40 20 30]\n",
      "[10 20 30 40]\n"
     ]
    }
   ],
   "source": [
    "# 1 - numpy kütüphanesini import edin\n",
    "\n",
    "import numpy as np\n",
    "\n",
    "# 2 - 5 elemanlı bir numpy array oluşturun\n",
    "\n",
    "x=np.array([10,40,20,30])\n",
    "print(x)\n",
    "\n",
    "# 3 - Oluşturduğunuz arrayi küçükten büyüğe sıralayın.\n",
    "\n",
    "x2=np.sort(x)\n",
    "print(x2)\n"
   ]
  },
  {
   "attachments": {},
   "cell_type": "markdown",
   "metadata": {},
   "source": [
    "# Problem 2"
   ]
  },
  {
   "cell_type": "code",
   "execution_count": 32,
   "metadata": {},
   "outputs": [
    {
     "name": "stdout",
     "output_type": "stream",
     "text": [
      "sayılar arrayi: [10 15 30 45 60]\n",
      "sayilar2 arrayi: [ 5  6  7  8  9 10 11 12 13 14]\n",
      "numpy arrayi: [50 55 60 65 70 75 80 85 90 95]\n",
      "numpy0 arrayi: [0. 0. 0. 0. 0. 0. 0. 0. 0. 0.]\n",
      "numpy1 arrayi: [1. 1. 1. 1. 1. 1. 1. 1. 1. 1.]\n",
      "numpy2 arrayi: [  0.  25.  50.  75. 100.]\n",
      "random arrayi: [22 26 24 19 18]\n",
      "random arrayi: [-9.36042252e-04  6.39884254e-01  1.91971830e-01  4.60487227e-03\n",
      " -7.95308126e-01  5.06391697e-01  9.89312942e-01 -6.77754355e-01\n",
      "  3.75825987e-01 -4.78818758e-01]\n",
      "random_matris : [[32 42 31 31 35]\n",
      " [38 46 30 46 33]\n",
      " [36 12 10 40 37]]\n",
      "[106 100  71 117 105]\n",
      "[171 193 135]\n",
      "46\n",
      "10\n",
      "33.266666666666666\n",
      "6\n",
      "[10 12 17]\n",
      "[18 13 12 14 17 11 17 12 10]\n",
      "[32 42 31 31 35]\n",
      "30\n",
      "[32 38 36]\n",
      "[[1024 1764  961  961 1225]\n",
      " [1444 2116  900 2116 1089]\n",
      " [1296  144  100 1600 1369]]\n",
      "[[ 13  38  46  14 -44]\n",
      " [-40  28  31  24  26]\n",
      " [ 39 -43  10 -30  28]\n",
      " [-28 -31  22 -14   6]]\n",
      "[38 46 14 28 24 26 10 28 22  6]\n"
     ]
    }
   ],
   "source": [
    "# 1- (10,15,30,45,60) değerlerine sahip numpy dizisi oluşturunuz.\n",
    "\n",
    "sayilar=np.array([10,15,30,45,60])\n",
    "print(f\"sayılar arrayi: {sayilar}\")\n",
    "\n",
    "# 2- (5-15) arasındaki sayılarla numpy dizisi oluşturunuz.\n",
    "\n",
    "sayilar2=np.arange(5,15)\n",
    "print(\"sayilar2 arrayi:\",sayilar2)\n",
    " \n",
    "# 3- (50-100) arasında 5'er 5'er artarak numpy dizisi oluşturunuz.\n",
    "\n",
    "numpy=np.arange(50,100,5)\n",
    "print(\"numpy arrayi:\",numpy)\n",
    "\n",
    "# 4- 10 elemanlı sıfırlardan oluşan bir dizi oluşturunuz.\n",
    "\n",
    "numpy0=np.zeros(10)\n",
    "print(\"numpy0 arrayi:\",numpy0)\n",
    "\n",
    "# 5- 10 elemanlı birlerden oluşan bir dizi oluşturunuz.\n",
    "\n",
    "numpy1=np.ones(10)\n",
    "print(\"numpy1 arrayi:\",numpy1)\n",
    "\n",
    "# 6- (0-100) arasında eşit aralıklı 5 sayı üretin.\n",
    "\n",
    "numpy2=np.linspace(0,100,5)\n",
    "print(\"numpy2 arrayi:\",numpy2)\n",
    "\n",
    "\n",
    "# 7- (10-30) arasında rastgele 5 tane tamsayı üretin.\n",
    "\n",
    "random=np.random.randint(10,31, size=5)  #range ile aynı\n",
    "print(\"random arrayi:\",random)\n",
    "\n",
    "# 8- [-1 ile 1] arasında 10 adet sayı üretin.\n",
    "\n",
    "random2=np.random.uniform(-1,1,10)   #.normal fonksiyonu da kullanılabilir\n",
    "print(\"random arrayi:\",random2)\n",
    "\n",
    "# 9- (3x5) boyutlarında (10-50) arasında rastgele bir matris oluşturunuz.\n",
    "\n",
    "random_matris=np.random.randint(10,50, size=(3,5))\n",
    "print(\"random_matris :\",random_matris)\n",
    "\n",
    "# 10- Üretilen matrisin satır ve sütun sayıları toplamlarını hesaplayınız ?\n",
    "\n",
    "# axis=0 dikey # axis=1 yatay\n",
    "print(random_matris.sum(axis=0))\n",
    "print(random_matris.sum(axis=1))\n",
    "\n",
    "# 11- Üretilen matrisin en büyük, en küçük ve ortalaması nedir ?\n",
    "\n",
    "print(random_matris.max())\n",
    "print(random_matris.min())\n",
    "print(random_matris.mean())\n",
    "\n",
    "# 12- Üretilen matrisin en büyük değerinin indeksi kaçtır ?\n",
    "\n",
    "print(random_matris.argmax())\n",
    "\n",
    "# 13- (10-20) arasındaki sayıları içeren dizinin ilk 3 elemanını seçiniz.\n",
    "\n",
    "dizi=np.random.randint(10,20, size=9)              # :dan önce sayı konmazsa ilk rakamı alır :dan sonra sayı koymazsak son elemanı alır.\n",
    "print(dizi[:3])\n",
    "\n",
    "# 14- Üretilen dizinin elemanlarını tersten yazdırın.\n",
    "\n",
    "print(dizi[::-1])\n",
    "\n",
    "# 15- Üretilen matrisin ilk satırını seçiniz.\n",
    "\n",
    "print(random_matris[0])\n",
    "\n",
    "# 16- Üretilen matrisin 2.satır 3.sütundaki elemanı hangisidir ?\n",
    "\n",
    "print(random_matris[1,2]) #[1][2] diye de yazılabilir.\n",
    "\n",
    "# 17- Üretilen matrisin tüm satırlardaki ilk elemanı seçiniz.\n",
    "\n",
    "print(random_matris[:,0])\n",
    "\n",
    "# 18- Üretilen matrisin her bir elemanının karesini alınız.\n",
    "\n",
    "print(random_matris**2) # power fonksiyonu kullnanbilirsin\n",
    "\n",
    "# 19- Üretilen matris elemanlarının hangisi pozitif çift sayıdır ? Aralığı (-50,+50) arasında yapınız.\n",
    "\n",
    "random_matris2=np.random.randint(-50,50, size=(4,5))\n",
    "print(random_matris2)\n",
    "print(random_matris2[ (random_matris2%2==0) & (random_matris2>0)])"
   ]
  }
 ],
 "metadata": {
  "kernelspec": {
   "display_name": "Python 3",
   "language": "python",
   "name": "python3"
  },
  "language_info": {
   "codemirror_mode": {
    "name": "ipython",
    "version": 3
   },
   "file_extension": ".py",
   "mimetype": "text/x-python",
   "name": "python",
   "nbconvert_exporter": "python",
   "pygments_lexer": "ipython3",
   "version": "3.11.1"
  },
  "orig_nbformat": 4,
  "vscode": {
   "interpreter": {
    "hash": "5026d2d6e7aaaaba093def813beadff083d8733e4a511af01735cbabd156995d"
   }
  }
 },
 "nbformat": 4,
 "nbformat_minor": 2
}
