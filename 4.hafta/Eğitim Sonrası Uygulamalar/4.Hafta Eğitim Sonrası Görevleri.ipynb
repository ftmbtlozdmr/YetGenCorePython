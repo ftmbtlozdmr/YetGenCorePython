{
 "cells": [
  {
   "cell_type": "markdown",
   "metadata": {},
   "source": [
    "# Problem 1\n",
    "`ogrenciler` adında bir sözlük oluşturunuz. Kullanıcıdan döngü yardımıyla 3 öğrenci için veri girmesini isteyerek öğrencilerin sırasıyla okul numarası, isim, soy isim, telefon numarası ve doğum tarihi bilgilerini alınız. Aldığınız öğrenci bilgilerini yine aynı döngü yardımıyla `ogrenciler` adındaki sözlükte saklayınız. Daha sonra öğrenci bilgilerinin bulunduğu sözlük yapısını ekrana bastırınız.\n",
    "\n"
   ]
  },
  {
   "cell_type": "code",
   "execution_count": 3,
   "metadata": {},
   "outputs": [
    {
     "name": "stdout",
     "output_type": "stream",
     "text": [
      "{1: {'Okul numarası': '1', 'isim': '1', 'soyisim': '1', 'Telefon numarası': '1', 'Doğum Tarihi': '1'}, 2: {'Okul numarası': '1', 'isim': '1', 'soyisim': '1', 'Telefon numarası': '1', 'Doğum Tarihi': '1'}, 3: {'Okul numarası': '1', 'isim': '1', 'soyisim': '1', 'Telefon numarası': '1', 'Doğum Tarihi': '1'}}\n"
     ]
    }
   ],
   "source": [
    "# 1.Problemin Çözümünü Buraya Yazınız\n",
    "\n",
    "ogrenciler={}\n",
    "\n",
    "for i in range(1,4):\n",
    "    no=input(\"Okul numarasını giriniz: \")   #işlem yapmayacağımız için int diye belirtmeye gerek yok.\n",
    "    ad=input(\"Öğrencinin ismini giriniz: \")\n",
    "    soyad=input(\"Öğrencinin soyisimini giriniz: \")\n",
    "    tel_no=input(\"Öğrenciniin telefon numarasını giriniz: \")\n",
    "    dogum_tarihi=input(\"Öğrencinin doğum tarihini giriniz: \")\n",
    "\n",
    "    ogrenciler[i]={\"Okul numarası\":no,\n",
    "                \"isim\":ad,\n",
    "                \"soyisim\":soyad,\n",
    "                \"Telefon numarası\":tel_no,\n",
    "                \"Doğum Tarihi\":dogum_tarihi}\n",
    "\n",
    "\n",
    "print(ogrenciler)\n",
    "\n",
    "   "
   ]
  },
  {
   "cell_type": "code",
   "execution_count": 7,
   "metadata": {},
   "outputs": [
    {
     "name": "stdout",
     "output_type": "stream",
     "text": [
      "{'ingilizce kelimeler ve anlamları': {'pencil': 'kalem'}}\n"
     ]
    }
   ],
   "source": [
    "a={}\n",
    "x={\"pencil\":\"kalem\"}\n",
    "a[\"ingilizce kelimeler ve anlamları\"]=x\n",
    "print(a)"
   ]
  },
  {
   "attachments": {},
   "cell_type": "markdown",
   "metadata": {},
   "source": [
    "# Problem 2\n",
    "\n",
    "### a - Biraz ısınarak başlayalım!\n",
    "\n",
    "```\n",
    "numbers = [5,10,10,15,15,15,20,20,20,20]\n",
    "```\n",
    "\n",
    "Yukarıda `numbers` adında 10 elemanlı bir liste verilmiştir. Bu listenin her elemanını kontrol eden ve tekrar eden elemanları bir kez olacak şekilde başka bir listeye kopyalayan bir program yazınız. Son olarak oluşturduğunuz listeyi ekrana bastırınız.\n",
    "\n",
    "\n",
    "\n",
    "\n",
    "```\n",
    ">Output\n",
    "[5, 10, 15, 20]\n",
    "```\n"
   ]
  },
  {
   "cell_type": "code",
   "execution_count": 10,
   "metadata": {},
   "outputs": [
    {
     "name": "stdout",
     "output_type": "stream",
     "text": [
      "[5, 10, 15, 20]\n"
     ]
    }
   ],
   "source": [
    "# 2.Problemin a Şıkkının Çözümünü Buraya Yazınız\n",
    "numbers= [5,10,10,15,15,15,20,20,20,20]\n",
    "\n",
    "list=[]\n",
    "\n",
    "for i in numbers:  #her eleman için.\n",
    "    if i not in list:\n",
    "        list.append(i)\n",
    "\n",
    "print(list)"
   ]
  },
  {
   "cell_type": "markdown",
   "metadata": {},
   "source": [
    "### 🌶️ b) Hadi işi biraz daha zorlaştıralım! \n",
    "\n",
    "\n",
    "Şimdiyse senden `numbers` isimli listedeki tekrar eden elemanları `repeatNumbers` adındaki listeye; tekrar etmeyen elemanları `uniqueNumbers`adındaki listeye kopyalayan yazmanı ve listeleri ekrana bastırmanı bekliyoruz\n",
    "\n",
    "```\n",
    ">Output\n",
    "Tekrar Eden Elemanlar: [10, 10, 15, 15, 15, 20, 20, 20, 20]\n",
    "Tekrar Etmeyen Elemanlar: [5]\n",
    "```"
   ]
  },
  {
   "cell_type": "code",
   "execution_count": 32,
   "metadata": {},
   "outputs": [
    {
     "name": "stdout",
     "output_type": "stream",
     "text": [
      "Tekrar Eden Elemanlar: [10, 10, 15, 15, 15, 20, 20, 20, 20]\n",
      "Tekrar Etmeyen Elemalar: [5]\n"
     ]
    }
   ],
   "source": [
    "# 2.Problemin b Şıkkının Çözümünü Buraya Yazınız\n",
    "numbers= [5,10,10,15,15,15,20,20,20,20]\n",
    "\n",
    "\n",
    "\n",
    "repeatNumbers=[]\n",
    "x=[] #5 10 15 20 (sayıların tamamı)\n",
    "y=[] #10 15 20 (tekrar eden sayılar)\n",
    "uniqueNumbers=[]\n",
    "\n",
    "\n",
    "for i in numbers:\n",
    "    if i not in x:\n",
    "        x.append(i) \n",
    "    else: \n",
    "        y.append(i)\n",
    "\n",
    "for i in numbers:\n",
    "    if i in y:\n",
    "        repeatNumbers.append(i)\n",
    "    else:\n",
    "        uniqueNumbers.append(i)\n",
    "\n",
    "\n",
    "print(f\"Tekrar Eden Elemanlar: {repeatNumbers}\" )\n",
    "print(f\"Tekrar Etmeyen Elemalar: {uniqueNumbers}\" )\n",
    "\n",
    "\n"
   ]
  },
  {
   "cell_type": "code",
   "execution_count": 5,
   "metadata": {},
   "outputs": [
    {
     "name": "stdout",
     "output_type": "stream",
     "text": [
      "Tekrar Eden Elemanlar: [10, 10, 15, 15, 15, 20, 20, 20, 20]\n",
      "Tekrar Etmeyen Elemalar: [5]\n"
     ]
    }
   ],
   "source": [
    "numbers= [5,10,10,15,15,15,20,20,20,20]\n",
    "repeatNumbers=[]\n",
    "uniqueNumbers=[]\n",
    "\n",
    "for i in numbers:\n",
    "    if numbers.count(i)==1:\n",
    "        uniqueNumbers.append(i)\n",
    "    else:\n",
    "        repeatNumbers.append(i)\n",
    "\n",
    "print(\"Tekrar Eden Elemanlar:\", repeatNumbers )\n",
    "print(\"Tekrar Etmeyen Elemalar:\", uniqueNumbers )\n",
    "\n"
   ]
  },
  {
   "cell_type": "markdown",
   "metadata": {},
   "source": [
    "# Problem 3\n",
    "sn1 = {1,2,3,4,5}\n",
    "\n",
    "sn2 = {4,5,6,7,8}\n",
    "\n",
    " Verilen 2 adet küme için kesişimlerini, farklarını ve birleşimlerini bulunuz. "
   ]
  },
  {
   "cell_type": "code",
   "execution_count": 8,
   "metadata": {},
   "outputs": [
    {
     "name": "stdout",
     "output_type": "stream",
     "text": [
      "{4, 5}\n",
      "{1, 2, 3} \n",
      " {8, 6, 7}\n",
      "{1, 2, 3, 4, 5, 6, 7, 8}\n"
     ]
    }
   ],
   "source": [
    "# 3.Problemin Çözümünü Buraya Yazınız\n",
    "\n",
    "\n",
    "\n",
    "sn1 = {1,2,3,4,5}\n",
    "sn2 = {4,5,6,7,8}\n",
    "\n",
    "#Kesişim\n",
    "kesisim=sn1.intersection(sn2)\n",
    "print(kesisim)\n",
    "\n",
    "#Farkları\n",
    "fark1=sn1.difference(sn2)\n",
    "fark2=sn2.difference(sn1)\n",
    "\n",
    "print(fark1,\"\\n\",fark2)\n",
    "\n",
    "#Birleşim\n",
    "sn1.union(sn2)  #setlerde \n",
    "print(sn1)\n",
    "\n",
    "\n"
   ]
  },
  {
   "cell_type": "markdown",
   "metadata": {},
   "source": [
    "# Problem 4\n",
    "\n",
    "Buradaki işlemlerimizin tamamı stringler içindir. Aşağıda verilecek olan metodlar için kendinizin örnek yaratması gerekmektedir. \n",
    "\n",
    "Örneğin `upper` için `string` değişkeni oluştururken` k = \"BAC\"` şeklinde oluşturmayınız. Bunun yerine k değişkenini `k = \"bac`\" şeklinde oluşturmanız `upper` metodundaki değişimi görebilmeniz için daha iyi olacaktır.\n",
    "\n",
    "Bütün metodlardaki değişimin gözle görülür şekilde değişimi beklenmektedir.\n",
    "\n",
    "\n",
    "1- capitalize(), lower(), upper(), swapcase(), title(), replace()\n",
    "\n",
    "2- endswith(), startswith(), find(), index(), count()\n",
    "\n",
    "3- split(), strip(), join(), islower(), isalpha(), isdigit()\n",
    "\n",
    "\n",
    "Yukarıdaki `string` metodlarındaki değişimleri görebildiğimiz bir program yazınız.\n"
   ]
  },
  {
   "cell_type": "code",
   "execution_count": 1,
   "metadata": {},
   "outputs": [
    {
     "name": "stdout",
     "output_type": "stream",
     "text": [
      "Fatma\n",
      "FATMA\n",
      "fatma\n",
      "fATMA\n",
      "Fatma\n",
      "Fetme\n",
      "True\n",
      "True\n",
      "-1\n",
      "1\n",
      "2\n",
      "Fatma\n",
      "['Fatma']\n",
      "False\n",
      "True\n",
      "False\n",
      " Fatmap\n"
     ]
    }
   ],
   "source": [
    "# 4.Problemin Çözümünü Buraya Yazınız\n",
    "k= \"Fatma\"\n",
    "print(k.capitalize())\n",
    "print(k.upper())\n",
    "print(k.lower())\n",
    "print(k.swapcase())\n",
    "print(k.title())\n",
    "print(k.replace(\"a\",\"e\"))\n",
    "print(k.endswith(\"a\"))\n",
    "print(k.startswith(\"F\"))\n",
    "print(k.find(\"ş\"))\n",
    "print(k.index(\"a\")) #kaçıncı satır\n",
    "print(k.count(\"a\"))\n",
    "print(k.strip())\n",
    "print(k.split())\n",
    "\n",
    "print(k.islower()) #küçük harf\n",
    "print(k.isalpha()) #alfabeye uygun mu\n",
    "print(k.isdigit()) #rakam varmı\n",
    "\n",
    "print(k.join(\" p\"))\n",
    "\n",
    "\n"
   ]
  }
 ],
 "metadata": {
  "kernelspec": {
   "display_name": "Python 3",
   "language": "python",
   "name": "python3"
  },
  "language_info": {
   "codemirror_mode": {
    "name": "ipython",
    "version": 3
   },
   "file_extension": ".py",
   "mimetype": "text/x-python",
   "name": "python",
   "nbconvert_exporter": "python",
   "pygments_lexer": "ipython3",
   "version": "3.11.1"
  },
  "orig_nbformat": 4,
  "vscode": {
   "interpreter": {
    "hash": "3683aedda712b68021710b780d055fa7df06e6413a2a6532e62afd8a05e3b050"
   }
  }
 },
 "nbformat": 4,
 "nbformat_minor": 2
}
