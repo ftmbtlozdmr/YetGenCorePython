{
 "cells": [
  {
   "attachments": {},
   "cell_type": "markdown",
   "metadata": {},
   "source": [
    "# Problem 1\n",
    "\n",
    "Kumanda isminde bir sınıf oluşturarak aşağıdaki işlemleri yapmasını sağlayan fonksiyonları sınıf içerisinde yazalım.\n",
    "1. Tv Aç\n",
    "2. Tv Kapat\n",
    "3. Ses Ayarları\n",
    "4. Kanal Ekle\n",
    "5. Kanal Sayısını Öğrenme\n",
    "6. Rastgele Kanala Geçme\n",
    "7. Televizyon Bilgileri\n",
    "\n",
    "\n",
    "Kumandayı kapatmak için q tuşuna basılmalı ve diğer durumlarda hangi işlemi yapmak istediği sorulmalıdır. Her işlemde gerekli fonksiyonunun sınıf içerisinden çağırılması gerekmektedir.\n",
    "\n",
    "random ve time kütüphanesini araştırarak kullanabilirsiniz.\n",
    "\n",
    "Kendi istediğiniz özellikleri eklemekte serbetsiniz."
   ]
  },
  {
   "cell_type": "code",
   "execution_count": 1,
   "metadata": {},
   "outputs": [
    {
     "ename": "SyntaxError",
     "evalue": "expected ':' (1333440159.py, line 21)",
     "output_type": "error",
     "traceback": [
      "\u001b[1;36m  Cell \u001b[1;32mIn[1], line 21\u001b[1;36m\u001b[0m\n\u001b[1;33m    def tv_kapat(self)\u001b[0m\n\u001b[1;37m                      ^\u001b[0m\n\u001b[1;31mSyntaxError\u001b[0m\u001b[1;31m:\u001b[0m expected ':'\n"
     ]
    }
   ],
   "source": [
    "# 1.Problemin Çözümünü Buraya Yazınız\n",
    "import random\n",
    "import time\n",
    "\n",
    "kanal_listesi=[\"TRT\",\"Show\",\"Star\",\"FOX\"]\n",
    "\n",
    "class kumanda:\n",
    "    def __init__(self,tv_durum=\"kapalı\",kanal_listesi=[\"TRT\",\"Show\",\"Star\",\"FOX\"],kanal=\"TRT\",tv_sesi=0):\n",
    "        self.tv_durum=tv_durum\n",
    "        self.kanal_listesi=kanal_listesi\n",
    "        self.kanal=kanal \n",
    "        self.tv_sesi=tv_sesi\n",
    "\n",
    "    def tv_ac(self):\n",
    "        if self.tv_durum==\"kapalı\":\n",
    "            print(\"TV açılıyor...\")\n",
    "            self.tv_durum=\"açık\"\n",
    "        else:\n",
    "            print(\"TV zaten açık.\")\n",
    "    \n",
    "    def tv_kapat(self)\n",
    "        if self.tv_durum==\"açık\":\n",
    "            print(\"TV kapanıyor...\")\n",
    "            self.tv_durum=\"kapalı\"\n",
    "        else:\n",
    "            print(\"TV zaten kapalı\")\n",
    "\n",
    "    def ses_degistir(self):\n",
    "        while True:\n",
    "            if self.tv_durum==\"kapalı\":\n",
    "                print(\"Lütfen Önce TV'yi açınız\")\n",
    "            else:\n",
    "                print(\"sesi artırmak için + tuşuna, sesi azaltmak için - tuşuna, çıkmak için q tuşuna basınız. \")\n",
    "                tus=input()\n",
    "                if tus==\"+\":\n",
    "                    self.tv_sesi =+ 1\n",
    "                elif tus==\"-\":\n",
    "                    self.tv_sesi =- 1\n",
    "                elif tus==\"q\":\n",
    "                    break\n",
    "                else:\n",
    "                    pass\n",
    "    def kanal_ekle(self):\n",
    "        if self.tv_durum==\"kapalı\":\n",
    "            print(\"Lütfen Önce TV'yi açınız\")\n",
    "        else:\n",
    "            kanal_ismi=input(\"Eklemek istediğiniz kanalın ismini giriniz:\")\n",
    "            kanal_listesi.append(kanal_ismi)\n",
    "            \n",
    "    def kanal_sayisi(self):\n",
    "        print(len(self.kanal_listesi))\n",
    "\n",
    "    def rastgele_kanal_acma(self):\n",
    "        randomkanal=random.randint(0,len(self.kanal_listesi-1))\n",
    "        \n",
    "                \n",
    "\n",
    "\n"
   ]
  }
 ],
 "metadata": {
  "kernelspec": {
   "display_name": "Python 3",
   "language": "python",
   "name": "python3"
  },
  "language_info": {
   "codemirror_mode": {
    "name": "ipython",
    "version": 3
   },
   "file_extension": ".py",
   "mimetype": "text/x-python",
   "name": "python",
   "nbconvert_exporter": "python",
   "pygments_lexer": "ipython3",
   "version": "3.11.1"
  },
  "orig_nbformat": 4,
  "vscode": {
   "interpreter": {
    "hash": "5026d2d6e7aaaaba093def813beadff083d8733e4a511af01735cbabd156995d"
   }
  }
 },
 "nbformat": 4,
 "nbformat_minor": 2
}
